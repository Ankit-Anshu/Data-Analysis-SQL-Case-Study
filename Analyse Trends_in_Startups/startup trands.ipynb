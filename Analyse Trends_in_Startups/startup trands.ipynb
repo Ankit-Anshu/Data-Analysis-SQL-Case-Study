{
    "metadata": {
        "kernelspec": {
            "name": "SQL",
            "display_name": "SQL",
            "language": "sql"
        },
        "language_info": {
            "name": "sql",
            "version": ""
        }
    },
    "nbformat_minor": 2,
    "nbformat": 4,
    "cells": [
        {
            "cell_type": "code",
            "source": [
                "select * \n",
                "from startups;"
            ],
            "metadata": {
                "azdata_cell_guid": "6746df3e-593b-4789-a09c-181e1193988c"
            },
            "outputs": [
                {
                    "output_type": "display_data",
                    "data": {
                        "text/html": "(70 rows affected)"
                    },
                    "metadata": {}
                },
                {
                    "output_type": "display_data",
                    "data": {
                        "text/html": "Total execution time: 00:00:00.023"
                    },
                    "metadata": {}
                },
                {
                    "output_type": "execute_result",
                    "metadata": {},
                    "execution_count": 1,
                    "data": {
                        "application/vnd.dataresource+json": {
                            "schema": {
                                "fields": [
                                    {
                                        "name": "name"
                                    },
                                    {
                                        "name": "location"
                                    },
                                    {
                                        "name": "category"
                                    },
                                    {
                                        "name": "employees"
                                    },
                                    {
                                        "name": "raised"
                                    },
                                    {
                                        "name": "valuation"
                                    },
                                    {
                                        "name": "founded"
                                    },
                                    {
                                        "name": "stage"
                                    },
                                    {
                                        "name": "ceo"
                                    },
                                    {
                                        "name": "info"
                                    }
                                ]
                            },
                            "data": [
                                {
                                    "0": "Pied Piper",
                                    "1": "Silicon Valley",
                                    "2": "Cloud Computing",
                                    "3": "6",
                                    "4": "5000000",
                                    "5": "50000000",
                                    "6": "2014",
                                    "7": "A",
                                    "8": "Richard Hendricks",
                                    "9": "A Middle-Out Compression Solution"
                                },
                                {
                                    "0": "Hooli",
                                    "1": "Silicon Valley",
                                    "2": "Enterprise",
                                    "3": "9000",
                                    "4": "580000000",
                                    "5": "49500000000",
                                    "6": "1997",
                                    "7": "null",
                                    "8": "Gavin Bensen",
                                    "9": "Hooli Is About People"
                                },
                                {
                                    "0": "Raviga Capital",
                                    "1": "Silicon Valley",
                                    "2": "Venture Capital",
                                    "3": "12",
                                    "4": "300000000",
                                    "5": "3000000000",
                                    "6": "2012",
                                    "7": "null",
                                    "8": "Peter Gregory",
                                    "9": "Share Only In Success"
                                },
                                {
                                    "0": "Aviato",
                                    "1": "Silicon Valley",
                                    "2": "Travel",
                                    "3": "3",
                                    "4": "250000",
                                    "5": "2500000",
                                    "6": "2006",
                                    "7": "Acquired",
                                    "8": "Erlich Bachman",
                                    "9": "Software Aggregation Program"
                                },
                                {
                                    "0": "SEE FOOD",
                                    "1": "Silicon Valley",
                                    "2": "Mobile",
                                    "3": "2",
                                    "4": "NULL",
                                    "5": "15000000",
                                    "6": "2016",
                                    "7": "Acquired",
                                    "8": "Jian-Yang",
                                    "9": "The Shazam of Food"
                                },
                                {
                                    "0": "Forbid",
                                    "1": "New York",
                                    "2": "Mobile",
                                    "3": "25",
                                    "4": "1400000",
                                    "5": "5000000",
                                    "6": "2013",
                                    "7": "Acquired",
                                    "8": "Charlie Dattolo",
                                    "9": "Charge Users $10 for Calling Their Ex"
                                },
                                {
                                    "0": "Soulstice",
                                    "1": "New York",
                                    "2": "Fitness",
                                    "3": "300",
                                    "4": "30000000",
                                    "5": "120000000",
                                    "6": "2014",
                                    "7": "B",
                                    "8": "null",
                                    "9": "What are your goals today?"
                                },
                                {
                                    "0": "E-Corp",
                                    "1": "New York",
                                    "2": "Enterprise",
                                    "3": "10000",
                                    "4": "NULL",
                                    "5": "66000000000",
                                    "6": "2006",
                                    "7": "null",
                                    "8": "Phillip Price",
                                    "9": "Together We Can Change the Wolrd"
                                },
                                {
                                    "0": "Allsafe Cybersecurity",
                                    "1": "New York",
                                    "2": "Security",
                                    "3": "250",
                                    "4": "123000000",
                                    "5": "1000000000",
                                    "6": "2014",
                                    "7": "null",
                                    "8": "Gideon Goddard",
                                    "9": "null"
                                },
                                {
                                    "0": "fsociety",
                                    "1": "Brooklyn",
                                    "2": "Games",
                                    "3": "5",
                                    "4": "NULL",
                                    "5": "NULL",
                                    "6": "2015",
                                    "7": "Stealth",
                                    "8": "Elliot Alderson",
                                    "9": "Fun Society Arcade"
                                },
                                {
                                    "0": "Summit Ice",
                                    "1": "Los Angeles",
                                    "2": "Fashion",
                                    "3": "2",
                                    "4": "50000",
                                    "5": "800000",
                                    "6": "2015",
                                    "7": "Seed",
                                    "8": "Nathan Fielder",
                                    "9": "Raising Awareness of the Holocaust"
                                },
                                {
                                    "0": "The Movement",
                                    "1": "Los Angeles",
                                    "2": "Fitness",
                                    "3": "3",
                                    "4": "15000",
                                    "5": "NULL",
                                    "6": "2015",
                                    "7": "Seed",
                                    "8": "Nathan Fielder",
                                    "9": "No Gym. No Weights. Just Results."
                                },
                                {
                                    "0": "WUPHF!",
                                    "1": "Scranton",
                                    "2": "Social",
                                    "3": "6",
                                    "4": "25000",
                                    "5": "10000",
                                    "6": "2010",
                                    "7": "Seed",
                                    "8": "Ryan Howard",
                                    "9": "Cross-Portal Messaging System"
                                },
                                {
                                    "0": "Fakeblock",
                                    "1": "Irvine",
                                    "2": "Mobile",
                                    "3": "2",
                                    "4": "3",
                                    "5": "NULL",
                                    "6": "2013",
                                    "7": "Seed",
                                    "8": "George Michael",
                                    "9": "OC's Most Popular Digital Wood Instrument"
                                },
                                {
                                    "0": "Magic Heap",
                                    "1": "Fort Lauderdale",
                                    "2": "Augmented Reality",
                                    "3": "500",
                                    "4": "1800000000",
                                    "5": "8000000000",
                                    "6": "2013",
                                    "7": "D",
                                    "8": "Johnny Malkovich",
                                    "9": "¯\\_(?)_/¯"
                                },
                                {
                                    "0": "HoloGrail",
                                    "1": "San Francisco",
                                    "2": "Technology",
                                    "3": "30",
                                    "4": "51000000",
                                    "5": "1800000000",
                                    "6": "2016",
                                    "7": "B",
                                    "8": "Daniel Li",
                                    "9": "Volumetric Display"
                                },
                                {
                                    "0": "Voice2Txt",
                                    "1": "San Francisco",
                                    "2": "Mobile",
                                    "3": "16",
                                    "4": "1800000",
                                    "5": "15000000",
                                    "6": "2012",
                                    "7": "Seed",
                                    "8": "Cole Romano",
                                    "9": "Transcribes Voicemails to Texts"
                                },
                                {
                                    "0": "V-Arrr",
                                    "1": "San Francisco",
                                    "2": "Virtual Reality",
                                    "3": "6",
                                    "4": "750000",
                                    "5": "2500000",
                                    "6": "2015",
                                    "7": "Seed",
                                    "8": "Cole Romano",
                                    "9": "Pirate-Themed VR App"
                                },
                                {
                                    "0": "REBU",
                                    "1": "San Francisco",
                                    "2": "Logistics",
                                    "3": "15000",
                                    "4": "11500000000",
                                    "5": "70000000",
                                    "6": "2009",
                                    "7": "G",
                                    "8": "Kravis Talanick",
                                    "9": "Ridesharing Platform"
                                },
                                {
                                    "0": "Rave New World",
                                    "1": "San Francisco",
                                    "2": "Social",
                                    "3": "8",
                                    "4": "250000",
                                    "5": "6000000",
                                    "6": "2014",
                                    "7": "null",
                                    "8": "Sam Guss",
                                    "9": "Social Media for the EDM Community"
                                },
                                {
                                    "0": "WaterCnC",
                                    "1": "San Francisco",
                                    "2": "Travel",
                                    "3": "4000",
                                    "4": "4400000000",
                                    "5": "25000000000",
                                    "6": "2008",
                                    "7": "F",
                                    "8": "Crian Besky",
                                    "9": "Water Sharing Platform for Cooks and Chefs"
                                },
                                {
                                    "0": "RankerBot",
                                    "1": "San Francisco",
                                    "2": "Algorithms",
                                    "3": "5",
                                    "4": "1500000",
                                    "5": "7600000",
                                    "6": "2013",
                                    "7": "Acquired",
                                    "8": "Delaney",
                                    "9": "Water Sharing Platform for Cooks and Chefs"
                                },
                                {
                                    "0": "Xandesk",
                                    "1": "San Francisco",
                                    "2": "Customer Service",
                                    "3": "100",
                                    "4": "75500000",
                                    "5": "640000000",
                                    "6": "2012",
                                    "7": "IPO",
                                    "8": "Ronald Paris",
                                    "9": "Keep Frowning"
                                },
                                {
                                    "0": "Everyotherday.me",
                                    "1": "San Francisco",
                                    "2": "Mobile",
                                    "3": "35",
                                    "4": "NULL",
                                    "5": "NULL",
                                    "6": "2012",
                                    "7": "Seed",
                                    "8": "Jeremy Lin",
                                    "9": "Journal that Captures the Special Moments"
                                },
                                {
                                    "0": "Frontsby",
                                    "1": "San Francisco",
                                    "2": "null",
                                    "3": "NULL",
                                    "4": "NULL",
                                    "5": "NULL",
                                    "6": "2013",
                                    "7": "Seed",
                                    "8": "Olivia Plath",
                                    "9": "null"
                                },
                                {
                                    "0": "2Smart2Host",
                                    "1": "Brooklyn",
                                    "2": "Data Analytics",
                                    "3": "4",
                                    "4": "380000",
                                    "5": "NULL",
                                    "6": "2014",
                                    "7": "Acquired",
                                    "8": "Evan Nails",
                                    "9": "Dynamic Pricing for Vacation Rentals"
                                },
                                {
                                    "0": "StarsNGripes",
                                    "1": "Boulder",
                                    "2": "Social",
                                    "3": "3",
                                    "4": "2000000",
                                    "5": "560000000",
                                    "6": "2015",
                                    "7": "A",
                                    "8": "Gregory Hilt",
                                    "9": "Yelp for US Landmarks and Tourist Attractions"
                                },
                                {
                                    "0": "SoCorny",
                                    "1": "Omaha",
                                    "2": "Technology",
                                    "3": "65",
                                    "4": "25000000",
                                    "5": "2000000000",
                                    "6": "2013",
                                    "7": "B",
                                    "8": "Elon Husk",
                                    "9": "Analytics Platform for Corn Production"
                                },
                                {
                                    "0": "VeVork",
                                    "1": "New York",
                                    "2": "Real Estate",
                                    "3": "200",
                                    "4": "750000000",
                                    "5": "20000000000",
                                    "6": "2010",
                                    "7": "G",
                                    "8": "Mada Nammneu",
                                    "9": "Co-relaxing Space for Vampires"
                                },
                                {
                                    "0": "Brrr",
                                    "1": "New York",
                                    "2": "Gambling",
                                    "3": "10",
                                    "4": "5000000",
                                    "5": "322000000",
                                    "6": "2012",
                                    "7": "A",
                                    "8": "Solo",
                                    "9": "eSports Betting"
                                },
                                {
                                    "0": "BackPax",
                                    "1": "New York",
                                    "2": "Education",
                                    "3": "2",
                                    "4": "80000",
                                    "5": "14000000",
                                    "6": "2017",
                                    "7": "Seed",
                                    "8": "Jose Ferreira",
                                    "9": "MOOCs are Boo Hoo"
                                },
                                {
                                    "0": "CapitalPunishment",
                                    "1": "New York",
                                    "2": "Mobile",
                                    "3": "15",
                                    "4": "500000",
                                    "5": "10000000",
                                    "6": "2008",
                                    "7": "A",
                                    "8": "Cole Romano",
                                    "9": "Stock Market Brawler Game"
                                },
                                {
                                    "0": "Son of a Fletch",
                                    "1": "New York",
                                    "2": "Social",
                                    "3": "4",
                                    "4": "300000",
                                    "5": "3000000",
                                    "6": "2014",
                                    "7": "Seed",
                                    "8": "CC Vaught",
                                    "9": "Social Media App for Archery Enthusiasts"
                                },
                                {
                                    "0": "Yas Queen",
                                    "1": "New York",
                                    "2": "Health Care",
                                    "3": "300",
                                    "4": "45000000",
                                    "5": "980000000",
                                    "6": "2015",
                                    "7": "A",
                                    "8": "Jamie Brieman",
                                    "9": "Accelerating Breast Cancer Research"
                                },
                                {
                                    "0": "Geocities-Lite",
                                    "1": "New York",
                                    "2": "Social",
                                    "3": "20",
                                    "4": "1000000",
                                    "5": "50000000",
                                    "6": "2012",
                                    "7": "A",
                                    "8": "Jim Jason",
                                    "9": "Mobile Friendly Geocities"
                                },
                                {
                                    "0": "Cluster.ly",
                                    "1": "New York",
                                    "2": "Big Data Analytics",
                                    "3": "10",
                                    "4": "750000",
                                    "5": "15000000",
                                    "6": "2015",
                                    "7": "B",
                                    "8": "Hillary Limegreen",
                                    "9": "null"
                                },
                                {
                                    "0": "Codefellas",
                                    "1": "New York",
                                    "2": "Education",
                                    "3": "50",
                                    "4": "50000000",
                                    "5": "10000000000",
                                    "6": "2012",
                                    "7": "A",
                                    "8": "Zane Sims",
                                    "9": "The Not So Easy Way to Learn to Code"
                                },
                                {
                                    "0": "kryptoPark",
                                    "1": "Palo Alto",
                                    "2": "Security",
                                    "3": "70",
                                    "4": "75000000",
                                    "5": "10000000000",
                                    "6": "2011",
                                    "7": "B",
                                    "8": "Joe Wang",
                                    "9": "Password Mgmt for Password Mgmt Services"
                                },
                                {
                                    "0": "zZz",
                                    "1": "Palo Alto",
                                    "2": "SaaS",
                                    "3": "20",
                                    "4": "50000000",
                                    "5": "800000000",
                                    "6": "2008",
                                    "7": "C",
                                    "8": "Henry Campbell",
                                    "9": "Dream Tracking/Recording"
                                },
                                {
                                    "0": "Pita Pan",
                                    "1": "Palo Alto",
                                    "2": "Technology",
                                    "3": "40",
                                    "4": "30000000",
                                    "5": "5500000000",
                                    "6": "2015",
                                    "7": "B",
                                    "8": "Schuylar Croom",
                                    "9": "Drone Food Delivery Service"
                                },
                                {
                                    "0": "nova.ai",
                                    "1": "Palo Alto",
                                    "2": "Enterprise",
                                    "3": "340",
                                    "4": "3000000",
                                    "5": "25000000",
                                    "6": "2013",
                                    "7": "A",
                                    "8": "Nick Kinsella",
                                    "9": "null"
                                },
                                {
                                    "0": "XNA",
                                    "1": "Palo Alto",
                                    "2": "Health Care",
                                    "3": "250",
                                    "4": "540000000",
                                    "5": "760000000000",
                                    "6": "2012",
                                    "7": "C",
                                    "8": "Owen Pilsner",
                                    "9": "Genome Database"
                                },
                                {
                                    "0": "Cloud Nine",
                                    "1": "Palo Alto",
                                    "2": "Cloud Computing",
                                    "3": "35",
                                    "4": "36000000",
                                    "5": "140000000",
                                    "6": "2013",
                                    "7": "A",
                                    "8": "Jase Farmer",
                                    "9": "null"
                                },
                                {
                                    "0": "Scramptons",
                                    "1": "Long Island",
                                    "2": "Security",
                                    "3": "5",
                                    "4": "200000",
                                    "5": "8000000000",
                                    "6": "2017",
                                    "7": "Seed",
                                    "8": "Henri Bernard",
                                    "9": "Home Security"
                                },
                                {
                                    "0": "Carcheesian Plane",
                                    "1": "Paris",
                                    "2": "Education",
                                    "3": "30",
                                    "4": "3000000",
                                    "5": "50000000",
                                    "6": "2012",
                                    "7": "A",
                                    "8": "Jim Mussen",
                                    "9": "A Gouda Place to Learn Math"
                                },
                                {
                                    "0": "Dungees and Dragos",
                                    "1": "Atlanta",
                                    "2": "Games",
                                    "3": "3",
                                    "4": "300000",
                                    "5": "1600000",
                                    "6": "2014",
                                    "7": "Seed",
                                    "8": "Stuart Stickler",
                                    "9": "Tabletop Gaming for the Insufferable"
                                },
                                {
                                    "0": "VaporWear",
                                    "1": "Virginia Beach",
                                    "2": "Social",
                                    "3": "15",
                                    "4": "450000",
                                    "5": "14000000",
                                    "6": "2017",
                                    "7": "Seed",
                                    "8": "TJ Harris",
                                    "9": "Social Network for Vaping Enthusiasts"
                                },
                                {
                                    "0": "RICE Media",
                                    "1": "Brooklyn",
                                    "2": "Video Streaming",
                                    "3": "3000",
                                    "4": "730000000",
                                    "5": "NULL",
                                    "6": "1994",
                                    "7": "null",
                                    "8": "Shayna Craftsman",
                                    "9": "2cool4school"
                                },
                                {
                                    "0": "Townie666",
                                    "1": "Brooklyn",
                                    "2": "null",
                                    "3": "2",
                                    "4": "20000",
                                    "5": "80000",
                                    "6": "2017",
                                    "7": "Seed",
                                    "8": "Sonny Li",
                                    "9": "*_*"
                                },
                                {
                                    "0": "Kimberly",
                                    "1": "Brooklyn",
                                    "2": "null",
                                    "3": "2",
                                    "4": "100000",
                                    "5": "8500000",
                                    "6": "2018",
                                    "7": "Seed",
                                    "8": "Jillian Kuzmin",
                                    "9": "Synthetic Diamonds"
                                },
                                {
                                    "0": "Wakeful",
                                    "1": "Brooklyn",
                                    "2": "Virtual Reality",
                                    "3": "3",
                                    "4": "30000",
                                    "5": "1800000",
                                    "6": "2016",
                                    "7": "Seed",
                                    "8": "Maria Epstein",
                                    "9": "Meditation VR App"
                                },
                                {
                                    "0": "MLGB",
                                    "1": "Columbus",
                                    "2": "E-commerce",
                                    "3": "2",
                                    "4": "50000",
                                    "5": "500000",
                                    "6": "2012",
                                    "7": "Seed",
                                    "8": "Xin Xin",
                                    "9": "Authentic Streetwear or DDoS'ed"
                                },
                                {
                                    "0": "PostGurt",
                                    "1": "Savannah",
                                    "2": "Social",
                                    "3": "6",
                                    "4": "550000",
                                    "5": "200000000",
                                    "6": "2013",
                                    "7": "Seed",
                                    "8": "Lauretta Brieman",
                                    "9": "Subscription Based Yogurt in the Mail"
                                },
                                {
                                    "0": "Virtual Tour",
                                    "1": "Chicago",
                                    "2": "E-commerce",
                                    "3": "12",
                                    "4": "750000",
                                    "5": "120000000",
                                    "6": "2014",
                                    "7": "Seed",
                                    "8": "Ari L'Boy",
                                    "9": "Real Estate for Fake People"
                                },
                                {
                                    "0": "Eärendil",
                                    "1": "Los Angeles",
                                    "2": "Mobile",
                                    "3": "2",
                                    "4": "50000",
                                    "5": "200000",
                                    "6": "2009",
                                    "7": "Seed",
                                    "8": "Kent Bergensen",
                                    "9": "Flashlight App"
                                },
                                {
                                    "0": "QT",
                                    "1": "Los Angeles",
                                    "2": "Social",
                                    "3": "3",
                                    "4": "1500000",
                                    "5": "4500000",
                                    "6": "2018",
                                    "7": "Seed",
                                    "8": "Keiko",
                                    "9": "Who Can Be More Kawaii (???????)?"
                                },
                                {
                                    "0": "LiftHub",
                                    "1": "Los Angeles",
                                    "2": "Fitness",
                                    "3": "30",
                                    "4": "2350000",
                                    "5": "15000000",
                                    "6": "2015",
                                    "7": "A",
                                    "8": "Mike McManus",
                                    "9": "Eat Clean. Train Dirty."
                                },
                                {
                                    "0": "Napflix",
                                    "1": "Los Angeles",
                                    "2": "Mobile",
                                    "3": "1",
                                    "4": "NULL",
                                    "5": "NULL",
                                    "6": "2016",
                                    "7": "Stealth",
                                    "8": "Reed Samson",
                                    "9": "Bootleg Netflix Shows"
                                },
                                {
                                    "0": "CyShare",
                                    "1": "Seattle",
                                    "2": "Social",
                                    "3": "11",
                                    "4": "300000",
                                    "5": "10000000",
                                    "6": "2015",
                                    "7": "B",
                                    "8": "Cathy Zhou",
                                    "9": "Bicycle Sharing Service"
                                },
                                {
                                    "0": "FizzyWillow",
                                    "1": "Seattle",
                                    "2": "Social",
                                    "3": "6",
                                    "4": "2000000",
                                    "5": "120000000",
                                    "6": "2014",
                                    "7": "C",
                                    "8": "Sandra Emmerson",
                                    "9": "Sparkling Wine Review App"
                                },
                                {
                                    "0": "Q Green",
                                    "1": "Seattle",
                                    "2": "Nanotechnology",
                                    "3": "12",
                                    "4": "3600000",
                                    "5": "150000000",
                                    "6": "2013",
                                    "7": "A",
                                    "8": "Quan Li",
                                    "9": "null"
                                },
                                {
                                    "0": "Friend, Where Is My Vehicle",
                                    "1": "Washington DC",
                                    "2": "SaaS",
                                    "3": "8",
                                    "4": "1800000",
                                    "5": "2000000",
                                    "6": "2016",
                                    "7": "A",
                                    "8": "Roland Tavurner",
                                    "9": "GPS Services"
                                },
                                {
                                    "0": "Allniter",
                                    "1": "New Delhi",
                                    "2": "Education",
                                    "3": "250",
                                    "4": "1000000",
                                    "5": "15000000",
                                    "6": "2009",
                                    "7": "A",
                                    "8": "Rohan Taneja",
                                    "9": "Homework/Essay Help"
                                },
                                {
                                    "0": "Gnome Reverser",
                                    "1": "Denver",
                                    "2": "Mobile",
                                    "3": "10",
                                    "4": "1500000",
                                    "5": "10000000",
                                    "6": "2014",
                                    "7": "A",
                                    "8": "Bruce Dzeda",
                                    "9": "Location Service to Find Your Keys/Wallet"
                                },
                                {
                                    "0": "ScoopAble",
                                    "1": "Denver",
                                    "2": "Social",
                                    "3": "14",
                                    "4": "1000000",
                                    "5": "7600000",
                                    "6": "2016",
                                    "7": "Seed",
                                    "8": "Zoe Gfell",
                                    "9": "Yogurt Finder"
                                },
                                {
                                    "0": "YoBert",
                                    "1": "New York",
                                    "2": "Education",
                                    "3": "31",
                                    "4": "800000",
                                    "5": "40000000",
                                    "6": "2016",
                                    "7": "Acquired",
                                    "8": "Ernie Dzeda",
                                    "9": "Seasme Street Themed Educational App"
                                },
                                {
                                    "0": "Trufflez",
                                    "1": "New York",
                                    "2": "Mobile",
                                    "3": "23",
                                    "4": "1000000",
                                    "5": "12000000",
                                    "6": "2014",
                                    "7": "Seed",
                                    "8": "null",
                                    "9": "AI Suggests Recipes Based on Photos"
                                },
                                {
                                    "0": "Unfade",
                                    "1": "New York",
                                    "2": "Fashion",
                                    "3": "4",
                                    "4": "400000",
                                    "5": "5600000",
                                    "6": "2016",
                                    "7": "A",
                                    "8": "Peggy Grimes",
                                    "9": "Everything Hair"
                                },
                                {
                                    "0": "OrangeYouLonely",
                                    "1": "Minneapolis",
                                    "2": "Social",
                                    "3": "20",
                                    "4": "1200000",
                                    "5": "14000000",
                                    "6": "2012",
                                    "7": "Seed",
                                    "8": "Gus Dawson",
                                    "9": "Dating App for Farmers"
                                },
                                {
                                    "0": "WellDeserved",
                                    "1": "San Francisco",
                                    "2": "E-commerce",
                                    "3": "4",
                                    "4": "NULL",
                                    "5": "NULL",
                                    "6": "2015",
                                    "7": "Seed",
                                    "8": "Kasima Tharnpipitchai",
                                    "9": "The Premiere Marketplace for Privilege"
                                }
                            ]
                        },
                        "text/html": [
                            "<table>",
                            "<tr><th>name</th><th>location</th><th>category</th><th>employees</th><th>raised</th><th>valuation</th><th>founded</th><th>stage</th><th>ceo</th><th>info</th></tr>",
                            "<tr><td>Pied Piper</td><td>Silicon Valley</td><td>Cloud Computing</td><td>6</td><td>5000000</td><td>50000000</td><td>2014</td><td>A</td><td>Richard Hendricks</td><td>A Middle-Out Compression Solution</td></tr>",
                            "<tr><td>Hooli</td><td>Silicon Valley</td><td>Enterprise</td><td>9000</td><td>580000000</td><td>49500000000</td><td>1997</td><td>null</td><td>Gavin Bensen</td><td>Hooli Is About People</td></tr>",
                            "<tr><td>Raviga Capital</td><td>Silicon Valley</td><td>Venture Capital</td><td>12</td><td>300000000</td><td>3000000000</td><td>2012</td><td>null</td><td>Peter Gregory</td><td>Share Only In Success</td></tr>",
                            "<tr><td>Aviato</td><td>Silicon Valley</td><td>Travel</td><td>3</td><td>250000</td><td>2500000</td><td>2006</td><td>Acquired</td><td>Erlich Bachman</td><td>Software Aggregation Program</td></tr>",
                            "<tr><td>SEE FOOD</td><td>Silicon Valley</td><td>Mobile</td><td>2</td><td>NULL</td><td>15000000</td><td>2016</td><td>Acquired</td><td>Jian-Yang</td><td>The Shazam of Food</td></tr>",
                            "<tr><td>Forbid</td><td>New York</td><td>Mobile</td><td>25</td><td>1400000</td><td>5000000</td><td>2013</td><td>Acquired</td><td>Charlie Dattolo</td><td>Charge Users $10 for Calling Their Ex</td></tr>",
                            "<tr><td>Soulstice</td><td>New York</td><td>Fitness</td><td>300</td><td>30000000</td><td>120000000</td><td>2014</td><td>B</td><td>null</td><td>What are your goals today?</td></tr>",
                            "<tr><td>E-Corp</td><td>New York</td><td>Enterprise</td><td>10000</td><td>NULL</td><td>66000000000</td><td>2006</td><td>null</td><td>Phillip Price</td><td>Together We Can Change the Wolrd</td></tr>",
                            "<tr><td>Allsafe Cybersecurity</td><td>New York</td><td>Security</td><td>250</td><td>123000000</td><td>1000000000</td><td>2014</td><td>null</td><td>Gideon Goddard</td><td>null</td></tr>",
                            "<tr><td>fsociety</td><td>Brooklyn</td><td>Games</td><td>5</td><td>NULL</td><td>NULL</td><td>2015</td><td>Stealth</td><td>Elliot Alderson</td><td>Fun Society Arcade</td></tr>",
                            "<tr><td>Summit Ice</td><td>Los Angeles</td><td>Fashion</td><td>2</td><td>50000</td><td>800000</td><td>2015</td><td>Seed</td><td>Nathan Fielder</td><td>Raising Awareness of the Holocaust</td></tr>",
                            "<tr><td>The Movement</td><td>Los Angeles</td><td>Fitness</td><td>3</td><td>15000</td><td>NULL</td><td>2015</td><td>Seed</td><td>Nathan Fielder</td><td>No Gym. No Weights. Just Results.</td></tr>",
                            "<tr><td>WUPHF!</td><td>Scranton</td><td>Social</td><td>6</td><td>25000</td><td>10000</td><td>2010</td><td>Seed</td><td>Ryan Howard</td><td>Cross-Portal Messaging System</td></tr>",
                            "<tr><td>Fakeblock</td><td>Irvine</td><td>Mobile</td><td>2</td><td>3</td><td>NULL</td><td>2013</td><td>Seed</td><td>George Michael</td><td>OC's Most Popular Digital Wood Instrument</td></tr>",
                            "<tr><td>Magic Heap</td><td>Fort Lauderdale</td><td>Augmented Reality</td><td>500</td><td>1800000000</td><td>8000000000</td><td>2013</td><td>D</td><td>Johnny Malkovich</td><td>¯\\_(?)_/¯</td></tr>",
                            "<tr><td>HoloGrail</td><td>San Francisco</td><td>Technology</td><td>30</td><td>51000000</td><td>1800000000</td><td>2016</td><td>B</td><td>Daniel Li</td><td>Volumetric Display</td></tr>",
                            "<tr><td>Voice2Txt</td><td>San Francisco</td><td>Mobile</td><td>16</td><td>1800000</td><td>15000000</td><td>2012</td><td>Seed</td><td>Cole Romano</td><td>Transcribes Voicemails to Texts</td></tr>",
                            "<tr><td>V-Arrr</td><td>San Francisco</td><td>Virtual Reality</td><td>6</td><td>750000</td><td>2500000</td><td>2015</td><td>Seed</td><td>Cole Romano</td><td>Pirate-Themed VR App</td></tr>",
                            "<tr><td>REBU</td><td>San Francisco</td><td>Logistics</td><td>15000</td><td>11500000000</td><td>70000000</td><td>2009</td><td>G</td><td>Kravis Talanick</td><td>Ridesharing Platform</td></tr>",
                            "<tr><td>Rave New World</td><td>San Francisco</td><td>Social</td><td>8</td><td>250000</td><td>6000000</td><td>2014</td><td>null</td><td>Sam Guss</td><td>Social Media for the EDM Community</td></tr>",
                            "<tr><td>WaterCnC</td><td>San Francisco</td><td>Travel</td><td>4000</td><td>4400000000</td><td>25000000000</td><td>2008</td><td>F</td><td>Crian Besky</td><td>Water Sharing Platform for Cooks and Chefs</td></tr>",
                            "<tr><td>RankerBot</td><td>San Francisco</td><td>Algorithms</td><td>5</td><td>1500000</td><td>7600000</td><td>2013</td><td>Acquired</td><td>Delaney</td><td>Water Sharing Platform for Cooks and Chefs</td></tr>",
                            "<tr><td>Xandesk</td><td>San Francisco</td><td>Customer Service</td><td>100</td><td>75500000</td><td>640000000</td><td>2012</td><td>IPO</td><td>Ronald Paris</td><td>Keep Frowning</td></tr>",
                            "<tr><td>Everyotherday.me</td><td>San Francisco</td><td>Mobile</td><td>35</td><td>NULL</td><td>NULL</td><td>2012</td><td>Seed</td><td>Jeremy Lin</td><td>Journal that Captures the Special Moments</td></tr>",
                            "<tr><td>Frontsby</td><td>San Francisco</td><td>null</td><td>NULL</td><td>NULL</td><td>NULL</td><td>2013</td><td>Seed</td><td>Olivia Plath</td><td>null</td></tr>",
                            "<tr><td>2Smart2Host</td><td>Brooklyn</td><td>Data Analytics</td><td>4</td><td>380000</td><td>NULL</td><td>2014</td><td>Acquired</td><td>Evan Nails</td><td>Dynamic Pricing for Vacation Rentals</td></tr>",
                            "<tr><td>StarsNGripes</td><td>Boulder</td><td>Social</td><td>3</td><td>2000000</td><td>560000000</td><td>2015</td><td>A</td><td>Gregory Hilt</td><td>Yelp for US Landmarks and Tourist Attractions</td></tr>",
                            "<tr><td>SoCorny</td><td>Omaha</td><td>Technology</td><td>65</td><td>25000000</td><td>2000000000</td><td>2013</td><td>B</td><td>Elon Husk</td><td>Analytics Platform for Corn Production</td></tr>",
                            "<tr><td>VeVork</td><td>New York</td><td>Real Estate</td><td>200</td><td>750000000</td><td>20000000000</td><td>2010</td><td>G</td><td>Mada Nammneu</td><td>Co-relaxing Space for Vampires</td></tr>",
                            "<tr><td>Brrr</td><td>New York</td><td>Gambling</td><td>10</td><td>5000000</td><td>322000000</td><td>2012</td><td>A</td><td>Solo</td><td>eSports Betting</td></tr>",
                            "<tr><td>BackPax</td><td>New York</td><td>Education</td><td>2</td><td>80000</td><td>14000000</td><td>2017</td><td>Seed</td><td>Jose Ferreira</td><td>MOOCs are Boo Hoo</td></tr>",
                            "<tr><td>CapitalPunishment</td><td>New York</td><td>Mobile</td><td>15</td><td>500000</td><td>10000000</td><td>2008</td><td>A</td><td>Cole Romano</td><td>Stock Market Brawler Game</td></tr>",
                            "<tr><td>Son of a Fletch</td><td>New York</td><td>Social</td><td>4</td><td>300000</td><td>3000000</td><td>2014</td><td>Seed</td><td>CC Vaught</td><td>Social Media App for Archery Enthusiasts</td></tr>",
                            "<tr><td>Yas Queen</td><td>New York</td><td>Health Care</td><td>300</td><td>45000000</td><td>980000000</td><td>2015</td><td>A</td><td>Jamie Brieman</td><td>Accelerating Breast Cancer Research</td></tr>",
                            "<tr><td>Geocities-Lite</td><td>New York</td><td>Social</td><td>20</td><td>1000000</td><td>50000000</td><td>2012</td><td>A</td><td>Jim Jason</td><td>Mobile Friendly Geocities</td></tr>",
                            "<tr><td>Cluster.ly</td><td>New York</td><td>Big Data Analytics</td><td>10</td><td>750000</td><td>15000000</td><td>2015</td><td>B</td><td>Hillary Limegreen</td><td>null</td></tr>",
                            "<tr><td>Codefellas</td><td>New York</td><td>Education</td><td>50</td><td>50000000</td><td>10000000000</td><td>2012</td><td>A</td><td>Zane Sims</td><td>The Not So Easy Way to Learn to Code</td></tr>",
                            "<tr><td>kryptoPark</td><td>Palo Alto</td><td>Security</td><td>70</td><td>75000000</td><td>10000000000</td><td>2011</td><td>B</td><td>Joe Wang</td><td>Password Mgmt for Password Mgmt Services</td></tr>",
                            "<tr><td>zZz</td><td>Palo Alto</td><td>SaaS</td><td>20</td><td>50000000</td><td>800000000</td><td>2008</td><td>C</td><td>Henry Campbell</td><td>Dream Tracking/Recording</td></tr>",
                            "<tr><td>Pita Pan</td><td>Palo Alto</td><td>Technology</td><td>40</td><td>30000000</td><td>5500000000</td><td>2015</td><td>B</td><td>Schuylar Croom</td><td>Drone Food Delivery Service</td></tr>",
                            "<tr><td>nova.ai</td><td>Palo Alto</td><td>Enterprise</td><td>340</td><td>3000000</td><td>25000000</td><td>2013</td><td>A</td><td>Nick Kinsella</td><td>null</td></tr>",
                            "<tr><td>XNA</td><td>Palo Alto</td><td>Health Care</td><td>250</td><td>540000000</td><td>760000000000</td><td>2012</td><td>C</td><td>Owen Pilsner</td><td>Genome Database</td></tr>",
                            "<tr><td>Cloud Nine</td><td>Palo Alto</td><td>Cloud Computing</td><td>35</td><td>36000000</td><td>140000000</td><td>2013</td><td>A</td><td>Jase Farmer</td><td>null</td></tr>",
                            "<tr><td>Scramptons</td><td>Long Island</td><td>Security</td><td>5</td><td>200000</td><td>8000000000</td><td>2017</td><td>Seed</td><td>Henri Bernard</td><td>Home Security</td></tr>",
                            "<tr><td>Carcheesian Plane</td><td>Paris</td><td>Education</td><td>30</td><td>3000000</td><td>50000000</td><td>2012</td><td>A</td><td>Jim Mussen</td><td>A Gouda Place to Learn Math</td></tr>",
                            "<tr><td>Dungees and Dragos</td><td>Atlanta</td><td>Games</td><td>3</td><td>300000</td><td>1600000</td><td>2014</td><td>Seed</td><td>Stuart Stickler</td><td>Tabletop Gaming for the Insufferable</td></tr>",
                            "<tr><td>VaporWear</td><td>Virginia Beach</td><td>Social</td><td>15</td><td>450000</td><td>14000000</td><td>2017</td><td>Seed</td><td>TJ Harris</td><td>Social Network for Vaping Enthusiasts</td></tr>",
                            "<tr><td>RICE Media</td><td>Brooklyn</td><td>Video Streaming</td><td>3000</td><td>730000000</td><td>NULL</td><td>1994</td><td>null</td><td>Shayna Craftsman</td><td>2cool4school</td></tr>",
                            "<tr><td>Townie666</td><td>Brooklyn</td><td>null</td><td>2</td><td>20000</td><td>80000</td><td>2017</td><td>Seed</td><td>Sonny Li</td><td>*_*</td></tr>",
                            "<tr><td>Kimberly</td><td>Brooklyn</td><td>null</td><td>2</td><td>100000</td><td>8500000</td><td>2018</td><td>Seed</td><td>Jillian Kuzmin</td><td>Synthetic Diamonds</td></tr>",
                            "<tr><td>Wakeful</td><td>Brooklyn</td><td>Virtual Reality</td><td>3</td><td>30000</td><td>1800000</td><td>2016</td><td>Seed</td><td>Maria Epstein</td><td>Meditation VR App</td></tr>",
                            "<tr><td>MLGB</td><td>Columbus</td><td>E-commerce</td><td>2</td><td>50000</td><td>500000</td><td>2012</td><td>Seed</td><td>Xin Xin</td><td>Authentic Streetwear or DDoS'ed</td></tr>",
                            "<tr><td>PostGurt</td><td>Savannah</td><td>Social</td><td>6</td><td>550000</td><td>200000000</td><td>2013</td><td>Seed</td><td>Lauretta Brieman</td><td>Subscription Based Yogurt in the Mail</td></tr>",
                            "<tr><td>Virtual Tour</td><td>Chicago</td><td>E-commerce</td><td>12</td><td>750000</td><td>120000000</td><td>2014</td><td>Seed</td><td>Ari L'Boy</td><td>Real Estate for Fake People</td></tr>",
                            "<tr><td>Eärendil</td><td>Los Angeles</td><td>Mobile</td><td>2</td><td>50000</td><td>200000</td><td>2009</td><td>Seed</td><td>Kent Bergensen</td><td>Flashlight App</td></tr>",
                            "<tr><td>QT</td><td>Los Angeles</td><td>Social</td><td>3</td><td>1500000</td><td>4500000</td><td>2018</td><td>Seed</td><td>Keiko</td><td>Who Can Be More Kawaii (???????)?</td></tr>",
                            "<tr><td>LiftHub</td><td>Los Angeles</td><td>Fitness</td><td>30</td><td>2350000</td><td>15000000</td><td>2015</td><td>A</td><td>Mike McManus</td><td>Eat Clean. Train Dirty.</td></tr>",
                            "<tr><td>Napflix</td><td>Los Angeles</td><td>Mobile</td><td>1</td><td>NULL</td><td>NULL</td><td>2016</td><td>Stealth</td><td>Reed Samson</td><td>Bootleg Netflix Shows</td></tr>",
                            "<tr><td>CyShare</td><td>Seattle</td><td>Social</td><td>11</td><td>300000</td><td>10000000</td><td>2015</td><td>B</td><td>Cathy Zhou</td><td>Bicycle Sharing Service</td></tr>",
                            "<tr><td>FizzyWillow</td><td>Seattle</td><td>Social</td><td>6</td><td>2000000</td><td>120000000</td><td>2014</td><td>C</td><td>Sandra Emmerson</td><td>Sparkling Wine Review App</td></tr>",
                            "<tr><td>Q Green</td><td>Seattle</td><td>Nanotechnology</td><td>12</td><td>3600000</td><td>150000000</td><td>2013</td><td>A</td><td>Quan Li</td><td>null</td></tr>",
                            "<tr><td>Friend, Where Is My Vehicle</td><td>Washington DC</td><td>SaaS</td><td>8</td><td>1800000</td><td>2000000</td><td>2016</td><td>A</td><td>Roland Tavurner</td><td>GPS Services</td></tr>",
                            "<tr><td>Allniter</td><td>New Delhi</td><td>Education</td><td>250</td><td>1000000</td><td>15000000</td><td>2009</td><td>A</td><td>Rohan Taneja</td><td>Homework/Essay Help</td></tr>",
                            "<tr><td>Gnome Reverser</td><td>Denver</td><td>Mobile</td><td>10</td><td>1500000</td><td>10000000</td><td>2014</td><td>A</td><td>Bruce Dzeda</td><td>Location Service to Find Your Keys/Wallet</td></tr>",
                            "<tr><td>ScoopAble</td><td>Denver</td><td>Social</td><td>14</td><td>1000000</td><td>7600000</td><td>2016</td><td>Seed</td><td>Zoe Gfell</td><td>Yogurt Finder</td></tr>",
                            "<tr><td>YoBert</td><td>New York</td><td>Education</td><td>31</td><td>800000</td><td>40000000</td><td>2016</td><td>Acquired</td><td>Ernie Dzeda</td><td>Seasme Street Themed Educational App</td></tr>",
                            "<tr><td>Trufflez</td><td>New York</td><td>Mobile</td><td>23</td><td>1000000</td><td>12000000</td><td>2014</td><td>Seed</td><td>null</td><td>AI Suggests Recipes Based on Photos</td></tr>",
                            "<tr><td>Unfade</td><td>New York</td><td>Fashion</td><td>4</td><td>400000</td><td>5600000</td><td>2016</td><td>A</td><td>Peggy Grimes</td><td>Everything Hair</td></tr>",
                            "<tr><td>OrangeYouLonely</td><td>Minneapolis</td><td>Social</td><td>20</td><td>1200000</td><td>14000000</td><td>2012</td><td>Seed</td><td>Gus Dawson</td><td>Dating App for Farmers</td></tr>",
                            "<tr><td>WellDeserved</td><td>San Francisco</td><td>E-commerce</td><td>4</td><td>NULL</td><td>NULL</td><td>2015</td><td>Seed</td><td>Kasima Tharnpipitchai</td><td>The Premiere Marketplace for Privilege</td></tr>",
                            "</table>"
                        ]
                    }
                }
            ],
            "execution_count": 1
        },
        {
            "cell_type": "code",
            "source": [
                "\n",
                "-- Calculate the total number of companies in the table.\n",
                "select count(*)\n",
                "from startups;\n",
                ""
            ],
            "metadata": {
                "azdata_cell_guid": "6e7833c9-9820-46ad-84bb-8a5386167038"
            },
            "outputs": [
                {
                    "output_type": "display_data",
                    "data": {
                        "text/html": "(1 row affected)"
                    },
                    "metadata": {}
                },
                {
                    "output_type": "display_data",
                    "data": {
                        "text/html": "Total execution time: 00:00:00.007"
                    },
                    "metadata": {}
                },
                {
                    "output_type": "execute_result",
                    "metadata": {},
                    "execution_count": 2,
                    "data": {
                        "application/vnd.dataresource+json": {
                            "schema": {
                                "fields": [
                                    {
                                        "name": "(No column name)"
                                    }
                                ]
                            },
                            "data": [
                                {
                                    "0": "70"
                                }
                            ]
                        },
                        "text/html": [
                            "<table>",
                            "<tr><th>(No column name)</th></tr>",
                            "<tr><td>70</td></tr>",
                            "</table>"
                        ]
                    }
                }
            ],
            "execution_count": 2
        },
        {
            "cell_type": "code",
            "source": [
                "-- We want to know the total value of all companies in this table.\n",
                "select sum(valuation)\n",
                "from startups;\n",
                ""
            ],
            "metadata": {
                "azdata_cell_guid": "12bf59a7-f391-4432-86fe-06938f1cd50f"
            },
            "outputs": [
                {
                    "output_type": "display_data",
                    "data": {
                        "text/html": "Warning: Null value is eliminated by an aggregate or other SET operation."
                    },
                    "metadata": {}
                },
                {
                    "output_type": "display_data",
                    "data": {
                        "text/html": "(1 row affected)"
                    },
                    "metadata": {}
                },
                {
                    "output_type": "display_data",
                    "data": {
                        "text/html": "Total execution time: 00:00:00.004"
                    },
                    "metadata": {}
                },
                {
                    "output_type": "execute_result",
                    "metadata": {},
                    "execution_count": 3,
                    "data": {
                        "application/vnd.dataresource+json": {
                            "schema": {
                                "fields": [
                                    {
                                        "name": "(No column name)"
                                    }
                                ]
                            },
                            "data": [
                                {
                                    "0": "974455790000"
                                }
                            ]
                        },
                        "text/html": [
                            "<table>",
                            "<tr><th>(No column name)</th></tr>",
                            "<tr><td>974455790000</td></tr>",
                            "</table>"
                        ]
                    }
                }
            ],
            "execution_count": 3
        },
        {
            "cell_type": "code",
            "source": [
                "-- What is the highest amount raised by a startup?\n",
                "-- Return the maximum amount of money raised.\n",
                "select max(raised)\n",
                "from startups;\n",
                ""
            ],
            "metadata": {
                "azdata_cell_guid": "c89932f2-21c6-4359-a63a-24d0d20d198c"
            },
            "outputs": [
                {
                    "output_type": "display_data",
                    "data": {
                        "text/html": "Warning: Null value is eliminated by an aggregate or other SET operation."
                    },
                    "metadata": {}
                },
                {
                    "output_type": "display_data",
                    "data": {
                        "text/html": "(1 row affected)"
                    },
                    "metadata": {}
                },
                {
                    "output_type": "display_data",
                    "data": {
                        "text/html": "Total execution time: 00:00:00.006"
                    },
                    "metadata": {}
                },
                {
                    "output_type": "execute_result",
                    "metadata": {},
                    "execution_count": 4,
                    "data": {
                        "application/vnd.dataresource+json": {
                            "schema": {
                                "fields": [
                                    {
                                        "name": "(No column name)"
                                    }
                                ]
                            },
                            "data": [
                                {
                                    "0": "11500000000"
                                }
                            ]
                        },
                        "text/html": [
                            "<table>",
                            "<tr><th>(No column name)</th></tr>",
                            "<tr><td>11500000000</td></tr>",
                            "</table>"
                        ]
                    }
                }
            ],
            "execution_count": 4
        },
        {
            "cell_type": "code",
            "source": [
                "-- maximum amount of money raised, during ‘Seed’ stage.\n",
                "select max(raised)\n",
                "from startups\n",
                "where stage ='Seed';\n",
                ""
            ],
            "metadata": {
                "azdata_cell_guid": "7721c633-0648-4a97-86ed-2121b886de7f"
            },
            "outputs": [
                {
                    "output_type": "display_data",
                    "data": {
                        "text/html": "Warning: Null value is eliminated by an aggregate or other SET operation."
                    },
                    "metadata": {}
                },
                {
                    "output_type": "display_data",
                    "data": {
                        "text/html": "(1 row affected)"
                    },
                    "metadata": {}
                },
                {
                    "output_type": "display_data",
                    "data": {
                        "text/html": "Total execution time: 00:00:00.006"
                    },
                    "metadata": {}
                },
                {
                    "output_type": "execute_result",
                    "metadata": {},
                    "execution_count": 5,
                    "data": {
                        "application/vnd.dataresource+json": {
                            "schema": {
                                "fields": [
                                    {
                                        "name": "(No column name)"
                                    }
                                ]
                            },
                            "data": [
                                {
                                    "0": "1800000"
                                }
                            ]
                        },
                        "text/html": [
                            "<table>",
                            "<tr><th>(No column name)</th></tr>",
                            "<tr><td>1800000</td></tr>",
                            "</table>"
                        ]
                    }
                }
            ],
            "execution_count": 5
        },
        {
            "cell_type": "code",
            "source": [
                "-- In what year was the oldest company on the list founded?\n",
                "select min(founded) as 'year'\n",
                "from startups;\n",
                ""
            ],
            "metadata": {
                "azdata_cell_guid": "6643cc16-f688-4e3b-ae5e-b74101386b64"
            },
            "outputs": [
                {
                    "output_type": "display_data",
                    "data": {
                        "text/html": "(1 row affected)"
                    },
                    "metadata": {}
                },
                {
                    "output_type": "display_data",
                    "data": {
                        "text/html": "Total execution time: 00:00:00.006"
                    },
                    "metadata": {}
                },
                {
                    "output_type": "execute_result",
                    "metadata": {},
                    "execution_count": 6,
                    "data": {
                        "application/vnd.dataresource+json": {
                            "schema": {
                                "fields": [
                                    {
                                        "name": "year"
                                    }
                                ]
                            },
                            "data": [
                                {
                                    "0": "1994"
                                }
                            ]
                        },
                        "text/html": [
                            "<table>",
                            "<tr><th>year</th></tr>",
                            "<tr><td>1994</td></tr>",
                            "</table>"
                        ]
                    }
                }
            ],
            "execution_count": 6
        },
        {
            "cell_type": "code",
            "source": [
                "-- Let's find out the valuations among different sectors:\n",
                "\n",
                "-- The average valuation\n",
                "select avg(valuation)\n",
                "from startups;\n",
                ""
            ],
            "metadata": {
                "azdata_cell_guid": "2a0a5f1b-29ce-4a8f-b9b9-8ea2a06097f3"
            },
            "outputs": [
                {
                    "output_type": "display_data",
                    "data": {
                        "text/html": "Warning: Null value is eliminated by an aggregate or other SET operation."
                    },
                    "metadata": {}
                },
                {
                    "output_type": "display_data",
                    "data": {
                        "text/html": "(1 row affected)"
                    },
                    "metadata": {}
                },
                {
                    "output_type": "display_data",
                    "data": {
                        "text/html": "Total execution time: 00:00:00.006"
                    },
                    "metadata": {}
                },
                {
                    "output_type": "execute_result",
                    "metadata": {},
                    "execution_count": 7,
                    "data": {
                        "application/vnd.dataresource+json": {
                            "schema": {
                                "fields": [
                                    {
                                        "name": "(No column name)"
                                    }
                                ]
                            },
                            "data": [
                                {
                                    "0": "15974685081.967213"
                                }
                            ]
                        },
                        "text/html": [
                            "<table>",
                            "<tr><th>(No column name)</th></tr>",
                            "<tr><td>15974685081.967213</td></tr>",
                            "</table>"
                        ]
                    }
                }
            ],
            "execution_count": 7
        },
        {
            "cell_type": "code",
            "source": [
                "-- The average valuation, in each category\n",
                "select category, avg(valuation)\n",
                "from startups\n",
                "group by category;\n",
                ""
            ],
            "metadata": {
                "azdata_cell_guid": "cd9bd2af-e737-496f-87c0-405615638200"
            },
            "outputs": [
                {
                    "output_type": "display_data",
                    "data": {
                        "text/html": "Warning: Null value is eliminated by an aggregate or other SET operation."
                    },
                    "metadata": {}
                },
                {
                    "output_type": "display_data",
                    "data": {
                        "text/html": "(27 rows affected)"
                    },
                    "metadata": {}
                },
                {
                    "output_type": "display_data",
                    "data": {
                        "text/html": "Total execution time: 00:00:00.015"
                    },
                    "metadata": {}
                },
                {
                    "output_type": "execute_result",
                    "metadata": {},
                    "execution_count": 8,
                    "data": {
                        "application/vnd.dataresource+json": {
                            "schema": {
                                "fields": [
                                    {
                                        "name": "category"
                                    },
                                    {
                                        "name": "(No column name)"
                                    }
                                ]
                            },
                            "data": [
                                {
                                    "0": "Algorithms",
                                    "1": "7600000"
                                },
                                {
                                    "0": "Augmented Reality",
                                    "1": "8000000000"
                                },
                                {
                                    "0": "Big Data Analytics",
                                    "1": "15000000"
                                },
                                {
                                    "0": "Cloud Computing",
                                    "1": "95000000"
                                },
                                {
                                    "0": "Customer Service",
                                    "1": "640000000"
                                },
                                {
                                    "0": "Data Analytics",
                                    "1": "NULL"
                                },
                                {
                                    "0": "E-commerce",
                                    "1": "60250000"
                                },
                                {
                                    "0": "Education",
                                    "1": "2023800000"
                                },
                                {
                                    "0": "Enterprise",
                                    "1": "38508333333.333336"
                                },
                                {
                                    "0": "Fashion",
                                    "1": "3200000"
                                },
                                {
                                    "0": "Fitness",
                                    "1": "67500000"
                                },
                                {
                                    "0": "Gambling",
                                    "1": "322000000"
                                },
                                {
                                    "0": "Games",
                                    "1": "1600000"
                                },
                                {
                                    "0": "Health Care",
                                    "1": "380490000000"
                                },
                                {
                                    "0": "Logistics",
                                    "1": "70000000"
                                },
                                {
                                    "0": "Mobile",
                                    "1": "9600000"
                                },
                                {
                                    "0": "Nanotechnology",
                                    "1": "150000000"
                                },
                                {
                                    "0": "null",
                                    "1": "4290000"
                                },
                                {
                                    "0": "Real Estate",
                                    "1": "20000000000"
                                },
                                {
                                    "0": "SaaS",
                                    "1": "401000000"
                                },
                                {
                                    "0": "Security",
                                    "1": "6333333333.333333"
                                },
                                {
                                    "0": "Social",
                                    "1": "82425833.33333333"
                                },
                                {
                                    "0": "Technology",
                                    "1": "3100000000"
                                },
                                {
                                    "0": "Travel",
                                    "1": "12501250000"
                                },
                                {
                                    "0": "Venture Capital",
                                    "1": "3000000000"
                                },
                                {
                                    "0": "Video Streaming",
                                    "1": "NULL"
                                },
                                {
                                    "0": "Virtual Reality",
                                    "1": "2150000"
                                }
                            ]
                        },
                        "text/html": [
                            "<table>",
                            "<tr><th>category</th><th>(No column name)</th></tr>",
                            "<tr><td>Algorithms</td><td>7600000</td></tr>",
                            "<tr><td>Augmented Reality</td><td>8000000000</td></tr>",
                            "<tr><td>Big Data Analytics</td><td>15000000</td></tr>",
                            "<tr><td>Cloud Computing</td><td>95000000</td></tr>",
                            "<tr><td>Customer Service</td><td>640000000</td></tr>",
                            "<tr><td>Data Analytics</td><td>NULL</td></tr>",
                            "<tr><td>E-commerce</td><td>60250000</td></tr>",
                            "<tr><td>Education</td><td>2023800000</td></tr>",
                            "<tr><td>Enterprise</td><td>38508333333.333336</td></tr>",
                            "<tr><td>Fashion</td><td>3200000</td></tr>",
                            "<tr><td>Fitness</td><td>67500000</td></tr>",
                            "<tr><td>Gambling</td><td>322000000</td></tr>",
                            "<tr><td>Games</td><td>1600000</td></tr>",
                            "<tr><td>Health Care</td><td>380490000000</td></tr>",
                            "<tr><td>Logistics</td><td>70000000</td></tr>",
                            "<tr><td>Mobile</td><td>9600000</td></tr>",
                            "<tr><td>Nanotechnology</td><td>150000000</td></tr>",
                            "<tr><td>null</td><td>4290000</td></tr>",
                            "<tr><td>Real Estate</td><td>20000000000</td></tr>",
                            "<tr><td>SaaS</td><td>401000000</td></tr>",
                            "<tr><td>Security</td><td>6333333333.333333</td></tr>",
                            "<tr><td>Social</td><td>82425833.33333333</td></tr>",
                            "<tr><td>Technology</td><td>3100000000</td></tr>",
                            "<tr><td>Travel</td><td>12501250000</td></tr>",
                            "<tr><td>Venture Capital</td><td>3000000000</td></tr>",
                            "<tr><td>Video Streaming</td><td>NULL</td></tr>",
                            "<tr><td>Virtual Reality</td><td>2150000</td></tr>",
                            "</table>"
                        ]
                    }
                }
            ],
            "execution_count": 8
        },
        {
            "cell_type": "code",
            "source": [
                "-- The average valuation, in each category.\n",
                "-- Round the averages to two decimal places\n",
                "select category, round(avg(valuation),2) as \"avg valuation\"\n",
                "from startups\n",
                "group by category;\n",
                ""
            ],
            "metadata": {
                "azdata_cell_guid": "fd5305ef-5ab1-49b5-9a34-ab3ec73d9f52"
            },
            "outputs": [
                {
                    "output_type": "display_data",
                    "data": {
                        "text/html": "Warning: Null value is eliminated by an aggregate or other SET operation."
                    },
                    "metadata": {}
                },
                {
                    "output_type": "display_data",
                    "data": {
                        "text/html": "(27 rows affected)"
                    },
                    "metadata": {}
                },
                {
                    "output_type": "display_data",
                    "data": {
                        "text/html": "Total execution time: 00:00:00.015"
                    },
                    "metadata": {}
                },
                {
                    "output_type": "execute_result",
                    "metadata": {},
                    "execution_count": 9,
                    "data": {
                        "application/vnd.dataresource+json": {
                            "schema": {
                                "fields": [
                                    {
                                        "name": "category"
                                    },
                                    {
                                        "name": "avg valuation"
                                    }
                                ]
                            },
                            "data": [
                                {
                                    "0": "Algorithms",
                                    "1": "7600000"
                                },
                                {
                                    "0": "Augmented Reality",
                                    "1": "8000000000"
                                },
                                {
                                    "0": "Big Data Analytics",
                                    "1": "15000000"
                                },
                                {
                                    "0": "Cloud Computing",
                                    "1": "95000000"
                                },
                                {
                                    "0": "Customer Service",
                                    "1": "640000000"
                                },
                                {
                                    "0": "Data Analytics",
                                    "1": "NULL"
                                },
                                {
                                    "0": "E-commerce",
                                    "1": "60250000"
                                },
                                {
                                    "0": "Education",
                                    "1": "2023800000"
                                },
                                {
                                    "0": "Enterprise",
                                    "1": "38508333333.33"
                                },
                                {
                                    "0": "Fashion",
                                    "1": "3200000"
                                },
                                {
                                    "0": "Fitness",
                                    "1": "67500000"
                                },
                                {
                                    "0": "Gambling",
                                    "1": "322000000"
                                },
                                {
                                    "0": "Games",
                                    "1": "1600000"
                                },
                                {
                                    "0": "Health Care",
                                    "1": "380490000000"
                                },
                                {
                                    "0": "Logistics",
                                    "1": "70000000"
                                },
                                {
                                    "0": "Mobile",
                                    "1": "9600000"
                                },
                                {
                                    "0": "Nanotechnology",
                                    "1": "150000000"
                                },
                                {
                                    "0": "null",
                                    "1": "4290000"
                                },
                                {
                                    "0": "Real Estate",
                                    "1": "20000000000"
                                },
                                {
                                    "0": "SaaS",
                                    "1": "401000000"
                                },
                                {
                                    "0": "Security",
                                    "1": "6333333333.33"
                                },
                                {
                                    "0": "Social",
                                    "1": "82425833.33"
                                },
                                {
                                    "0": "Technology",
                                    "1": "3100000000"
                                },
                                {
                                    "0": "Travel",
                                    "1": "12501250000"
                                },
                                {
                                    "0": "Venture Capital",
                                    "1": "3000000000"
                                },
                                {
                                    "0": "Video Streaming",
                                    "1": "NULL"
                                },
                                {
                                    "0": "Virtual Reality",
                                    "1": "2150000"
                                }
                            ]
                        },
                        "text/html": [
                            "<table>",
                            "<tr><th>category</th><th>avg valuation</th></tr>",
                            "<tr><td>Algorithms</td><td>7600000</td></tr>",
                            "<tr><td>Augmented Reality</td><td>8000000000</td></tr>",
                            "<tr><td>Big Data Analytics</td><td>15000000</td></tr>",
                            "<tr><td>Cloud Computing</td><td>95000000</td></tr>",
                            "<tr><td>Customer Service</td><td>640000000</td></tr>",
                            "<tr><td>Data Analytics</td><td>NULL</td></tr>",
                            "<tr><td>E-commerce</td><td>60250000</td></tr>",
                            "<tr><td>Education</td><td>2023800000</td></tr>",
                            "<tr><td>Enterprise</td><td>38508333333.33</td></tr>",
                            "<tr><td>Fashion</td><td>3200000</td></tr>",
                            "<tr><td>Fitness</td><td>67500000</td></tr>",
                            "<tr><td>Gambling</td><td>322000000</td></tr>",
                            "<tr><td>Games</td><td>1600000</td></tr>",
                            "<tr><td>Health Care</td><td>380490000000</td></tr>",
                            "<tr><td>Logistics</td><td>70000000</td></tr>",
                            "<tr><td>Mobile</td><td>9600000</td></tr>",
                            "<tr><td>Nanotechnology</td><td>150000000</td></tr>",
                            "<tr><td>null</td><td>4290000</td></tr>",
                            "<tr><td>Real Estate</td><td>20000000000</td></tr>",
                            "<tr><td>SaaS</td><td>401000000</td></tr>",
                            "<tr><td>Security</td><td>6333333333.33</td></tr>",
                            "<tr><td>Social</td><td>82425833.33</td></tr>",
                            "<tr><td>Technology</td><td>3100000000</td></tr>",
                            "<tr><td>Travel</td><td>12501250000</td></tr>",
                            "<tr><td>Venture Capital</td><td>3000000000</td></tr>",
                            "<tr><td>Video Streaming</td><td>NULL</td></tr>",
                            "<tr><td>Virtual Reality</td><td>2150000</td></tr>",
                            "</table>"
                        ]
                    }
                }
            ],
            "execution_count": 9
        },
        {
            "cell_type": "code",
            "source": [
                "/* Return the average valuation, in each category.\n",
                " Round the averages to two decimal places.\n",
                " Lastly, order the list from highest averages to lowest.*/\n",
                "\n",
                "select category, round(avg(valuation), 2) as \"avg valuation\"\n",
                "from startups\n",
                "group by category\n",
                "order by [avg valuation] desc;\n",
                ""
            ],
            "metadata": {
                "azdata_cell_guid": "fdaccafa-fa6f-4f86-b8fa-60c7c44f4fcd"
            },
            "outputs": [
                {
                    "output_type": "display_data",
                    "data": {
                        "text/html": "Warning: Null value is eliminated by an aggregate or other SET operation."
                    },
                    "metadata": {}
                },
                {
                    "output_type": "display_data",
                    "data": {
                        "text/html": "(27 rows affected)"
                    },
                    "metadata": {}
                },
                {
                    "output_type": "display_data",
                    "data": {
                        "text/html": "Total execution time: 00:00:00.024"
                    },
                    "metadata": {}
                },
                {
                    "output_type": "execute_result",
                    "metadata": {},
                    "execution_count": 10,
                    "data": {
                        "application/vnd.dataresource+json": {
                            "schema": {
                                "fields": [
                                    {
                                        "name": "category"
                                    },
                                    {
                                        "name": "avg valuation"
                                    }
                                ]
                            },
                            "data": [
                                {
                                    "0": "Health Care",
                                    "1": "380490000000"
                                },
                                {
                                    "0": "Enterprise",
                                    "1": "38508333333.33"
                                },
                                {
                                    "0": "Real Estate",
                                    "1": "20000000000"
                                },
                                {
                                    "0": "Travel",
                                    "1": "12501250000"
                                },
                                {
                                    "0": "Augmented Reality",
                                    "1": "8000000000"
                                },
                                {
                                    "0": "Security",
                                    "1": "6333333333.33"
                                },
                                {
                                    "0": "Technology",
                                    "1": "3100000000"
                                },
                                {
                                    "0": "Venture Capital",
                                    "1": "3000000000"
                                },
                                {
                                    "0": "Education",
                                    "1": "2023800000"
                                },
                                {
                                    "0": "Customer Service",
                                    "1": "640000000"
                                },
                                {
                                    "0": "SaaS",
                                    "1": "401000000"
                                },
                                {
                                    "0": "Gambling",
                                    "1": "322000000"
                                },
                                {
                                    "0": "Nanotechnology",
                                    "1": "150000000"
                                },
                                {
                                    "0": "Cloud Computing",
                                    "1": "95000000"
                                },
                                {
                                    "0": "Social",
                                    "1": "82425833.33"
                                },
                                {
                                    "0": "Logistics",
                                    "1": "70000000"
                                },
                                {
                                    "0": "Fitness",
                                    "1": "67500000"
                                },
                                {
                                    "0": "E-commerce",
                                    "1": "60250000"
                                },
                                {
                                    "0": "Big Data Analytics",
                                    "1": "15000000"
                                },
                                {
                                    "0": "Mobile",
                                    "1": "9600000"
                                },
                                {
                                    "0": "Algorithms",
                                    "1": "7600000"
                                },
                                {
                                    "0": "null",
                                    "1": "4290000"
                                },
                                {
                                    "0": "Fashion",
                                    "1": "3200000"
                                },
                                {
                                    "0": "Virtual Reality",
                                    "1": "2150000"
                                },
                                {
                                    "0": "Games",
                                    "1": "1600000"
                                },
                                {
                                    "0": "Data Analytics",
                                    "1": "NULL"
                                },
                                {
                                    "0": "Video Streaming",
                                    "1": "NULL"
                                }
                            ]
                        },
                        "text/html": [
                            "<table>",
                            "<tr><th>category</th><th>avg valuation</th></tr>",
                            "<tr><td>Health Care</td><td>380490000000</td></tr>",
                            "<tr><td>Enterprise</td><td>38508333333.33</td></tr>",
                            "<tr><td>Real Estate</td><td>20000000000</td></tr>",
                            "<tr><td>Travel</td><td>12501250000</td></tr>",
                            "<tr><td>Augmented Reality</td><td>8000000000</td></tr>",
                            "<tr><td>Security</td><td>6333333333.33</td></tr>",
                            "<tr><td>Technology</td><td>3100000000</td></tr>",
                            "<tr><td>Venture Capital</td><td>3000000000</td></tr>",
                            "<tr><td>Education</td><td>2023800000</td></tr>",
                            "<tr><td>Customer Service</td><td>640000000</td></tr>",
                            "<tr><td>SaaS</td><td>401000000</td></tr>",
                            "<tr><td>Gambling</td><td>322000000</td></tr>",
                            "<tr><td>Nanotechnology</td><td>150000000</td></tr>",
                            "<tr><td>Cloud Computing</td><td>95000000</td></tr>",
                            "<tr><td>Social</td><td>82425833.33</td></tr>",
                            "<tr><td>Logistics</td><td>70000000</td></tr>",
                            "<tr><td>Fitness</td><td>67500000</td></tr>",
                            "<tr><td>E-commerce</td><td>60250000</td></tr>",
                            "<tr><td>Big Data Analytics</td><td>15000000</td></tr>",
                            "<tr><td>Mobile</td><td>9600000</td></tr>",
                            "<tr><td>Algorithms</td><td>7600000</td></tr>",
                            "<tr><td>null</td><td>4290000</td></tr>",
                            "<tr><td>Fashion</td><td>3200000</td></tr>",
                            "<tr><td>Virtual Reality</td><td>2150000</td></tr>",
                            "<tr><td>Games</td><td>1600000</td></tr>",
                            "<tr><td>Data Analytics</td><td>NULL</td></tr>",
                            "<tr><td>Video Streaming</td><td>NULL</td></tr>",
                            "</table>"
                        ]
                    }
                }
            ],
            "execution_count": 10
        },
        {
            "cell_type": "code",
            "source": [
                "/* What are the most competitive markets?\n",
                "\n",
                " First, return the name of each category\n",
                " with the total number of companies that belong to it.*/\n",
                "\n",
                "select category, count(*) as 'count'\n",
                "from startups\n",
                "group by category;\n",
                ""
            ],
            "metadata": {
                "azdata_cell_guid": "5c989e2e-3ea7-489b-ae72-944a70b1a832"
            },
            "outputs": [
                {
                    "output_type": "display_data",
                    "data": {
                        "text/html": "(27 rows affected)"
                    },
                    "metadata": {}
                },
                {
                    "output_type": "display_data",
                    "data": {
                        "text/html": "Total execution time: 00:00:00.008"
                    },
                    "metadata": {}
                },
                {
                    "output_type": "execute_result",
                    "metadata": {},
                    "execution_count": 11,
                    "data": {
                        "application/vnd.dataresource+json": {
                            "schema": {
                                "fields": [
                                    {
                                        "name": "category"
                                    },
                                    {
                                        "name": "count"
                                    }
                                ]
                            },
                            "data": [
                                {
                                    "0": "Algorithms",
                                    "1": "1"
                                },
                                {
                                    "0": "Augmented Reality",
                                    "1": "1"
                                },
                                {
                                    "0": "Big Data Analytics",
                                    "1": "1"
                                },
                                {
                                    "0": "Cloud Computing",
                                    "1": "2"
                                },
                                {
                                    "0": "Customer Service",
                                    "1": "1"
                                },
                                {
                                    "0": "Data Analytics",
                                    "1": "1"
                                },
                                {
                                    "0": "E-commerce",
                                    "1": "3"
                                },
                                {
                                    "0": "Education",
                                    "1": "5"
                                },
                                {
                                    "0": "Enterprise",
                                    "1": "3"
                                },
                                {
                                    "0": "Fashion",
                                    "1": "2"
                                },
                                {
                                    "0": "Fitness",
                                    "1": "3"
                                },
                                {
                                    "0": "Gambling",
                                    "1": "1"
                                },
                                {
                                    "0": "Games",
                                    "1": "2"
                                },
                                {
                                    "0": "Health Care",
                                    "1": "2"
                                },
                                {
                                    "0": "Logistics",
                                    "1": "1"
                                },
                                {
                                    "0": "Mobile",
                                    "1": "10"
                                },
                                {
                                    "0": "Nanotechnology",
                                    "1": "1"
                                },
                                {
                                    "0": "null",
                                    "1": "3"
                                },
                                {
                                    "0": "Real Estate",
                                    "1": "1"
                                },
                                {
                                    "0": "SaaS",
                                    "1": "2"
                                },
                                {
                                    "0": "Security",
                                    "1": "3"
                                },
                                {
                                    "0": "Social",
                                    "1": "12"
                                },
                                {
                                    "0": "Technology",
                                    "1": "3"
                                },
                                {
                                    "0": "Travel",
                                    "1": "2"
                                },
                                {
                                    "0": "Venture Capital",
                                    "1": "1"
                                },
                                {
                                    "0": "Video Streaming",
                                    "1": "1"
                                },
                                {
                                    "0": "Virtual Reality",
                                    "1": "2"
                                }
                            ]
                        },
                        "text/html": [
                            "<table>",
                            "<tr><th>category</th><th>count</th></tr>",
                            "<tr><td>Algorithms</td><td>1</td></tr>",
                            "<tr><td>Augmented Reality</td><td>1</td></tr>",
                            "<tr><td>Big Data Analytics</td><td>1</td></tr>",
                            "<tr><td>Cloud Computing</td><td>2</td></tr>",
                            "<tr><td>Customer Service</td><td>1</td></tr>",
                            "<tr><td>Data Analytics</td><td>1</td></tr>",
                            "<tr><td>E-commerce</td><td>3</td></tr>",
                            "<tr><td>Education</td><td>5</td></tr>",
                            "<tr><td>Enterprise</td><td>3</td></tr>",
                            "<tr><td>Fashion</td><td>2</td></tr>",
                            "<tr><td>Fitness</td><td>3</td></tr>",
                            "<tr><td>Gambling</td><td>1</td></tr>",
                            "<tr><td>Games</td><td>2</td></tr>",
                            "<tr><td>Health Care</td><td>2</td></tr>",
                            "<tr><td>Logistics</td><td>1</td></tr>",
                            "<tr><td>Mobile</td><td>10</td></tr>",
                            "<tr><td>Nanotechnology</td><td>1</td></tr>",
                            "<tr><td>null</td><td>3</td></tr>",
                            "<tr><td>Real Estate</td><td>1</td></tr>",
                            "<tr><td>SaaS</td><td>2</td></tr>",
                            "<tr><td>Security</td><td>3</td></tr>",
                            "<tr><td>Social</td><td>12</td></tr>",
                            "<tr><td>Technology</td><td>3</td></tr>",
                            "<tr><td>Travel</td><td>2</td></tr>",
                            "<tr><td>Venture Capital</td><td>1</td></tr>",
                            "<tr><td>Video Streaming</td><td>1</td></tr>",
                            "<tr><td>Virtual Reality</td><td>2</td></tr>",
                            "</table>"
                        ]
                    }
                }
            ],
            "execution_count": 11
        },
        {
            "cell_type": "code",
            "source": [
                "-- Filter the result to only include categories that have more than three companies in them.\n",
                "\n",
                "select category, count(*) as 'count'\n",
                "from startups\n",
                "group by category \n",
                "having count(*) > 3\n",
                "order by 2 desc;\n",
                ""
            ],
            "metadata": {
                "azdata_cell_guid": "896962e5-e0ef-4ed6-ab87-463b439068b5"
            },
            "outputs": [
                {
                    "output_type": "display_data",
                    "data": {
                        "text/html": "(3 rows affected)"
                    },
                    "metadata": {}
                },
                {
                    "output_type": "display_data",
                    "data": {
                        "text/html": "Total execution time: 00:00:00.007"
                    },
                    "metadata": {}
                },
                {
                    "output_type": "execute_result",
                    "metadata": {},
                    "execution_count": 12,
                    "data": {
                        "application/vnd.dataresource+json": {
                            "schema": {
                                "fields": [
                                    {
                                        "name": "category"
                                    },
                                    {
                                        "name": "count"
                                    }
                                ]
                            },
                            "data": [
                                {
                                    "0": "Social",
                                    "1": "12"
                                },
                                {
                                    "0": "Mobile",
                                    "1": "10"
                                },
                                {
                                    "0": "Education",
                                    "1": "5"
                                }
                            ]
                        },
                        "text/html": [
                            "<table>",
                            "<tr><th>category</th><th>count</th></tr>",
                            "<tr><td>Social</td><td>12</td></tr>",
                            "<tr><td>Mobile</td><td>10</td></tr>",
                            "<tr><td>Education</td><td>5</td></tr>",
                            "</table>"
                        ]
                    }
                }
            ],
            "execution_count": 12
        },
        {
            "cell_type": "code",
            "source": [
                "/* Let's see if there's a difference\n",
                "in startups sizes among different locations:\n",
                "\n",
                " What is the average size of a startup in each location?*/\n",
                "\n",
                "select location,avg(employees) as [Avg no of employees]\n",
                "from startups\n",
                "group by location\n",
                "order by 2 desc;\n",
                ""
            ],
            "metadata": {
                "azdata_cell_guid": "08b8daf6-e02d-4f64-8307-9dee76dc99fd"
            },
            "outputs": [
                {
                    "output_type": "display_data",
                    "data": {
                        "text/html": "Warning: Null value is eliminated by an aggregate or other SET operation."
                    },
                    "metadata": {}
                },
                {
                    "output_type": "display_data",
                    "data": {
                        "text/html": "(23 rows affected)"
                    },
                    "metadata": {}
                },
                {
                    "output_type": "display_data",
                    "data": {
                        "text/html": "Total execution time: 00:00:00.006"
                    },
                    "metadata": {}
                },
                {
                    "output_type": "execute_result",
                    "metadata": {},
                    "execution_count": 13,
                    "data": {
                        "application/vnd.dataresource+json": {
                            "schema": {
                                "fields": [
                                    {
                                        "name": "location"
                                    },
                                    {
                                        "name": "Avg no of employees"
                                    }
                                ]
                            },
                            "data": [
                                {
                                    "0": "San Francisco",
                                    "1": "1920.4"
                                },
                                {
                                    "0": "Silicon Valley",
                                    "1": "1804.6"
                                },
                                {
                                    "0": "New York",
                                    "1": "702.75"
                                },
                                {
                                    "0": "Brooklyn",
                                    "1": "502.6666666666667"
                                },
                                {
                                    "0": "Fort Lauderdale",
                                    "1": "500"
                                },
                                {
                                    "0": "New Delhi",
                                    "1": "250"
                                },
                                {
                                    "0": "Palo Alto",
                                    "1": "125.83333333333333"
                                },
                                {
                                    "0": "Omaha",
                                    "1": "65"
                                },
                                {
                                    "0": "Paris",
                                    "1": "30"
                                },
                                {
                                    "0": "Minneapolis",
                                    "1": "20"
                                },
                                {
                                    "0": "Virginia Beach",
                                    "1": "15"
                                },
                                {
                                    "0": "Denver",
                                    "1": "12"
                                },
                                {
                                    "0": "Chicago",
                                    "1": "12"
                                },
                                {
                                    "0": "Seattle",
                                    "1": "9.666666666666666"
                                },
                                {
                                    "0": "Washington DC",
                                    "1": "8"
                                },
                                {
                                    "0": "Los Angeles",
                                    "1": "6.833333333333333"
                                },
                                {
                                    "0": "Savannah",
                                    "1": "6"
                                },
                                {
                                    "0": "Scranton",
                                    "1": "6"
                                },
                                {
                                    "0": "Long Island",
                                    "1": "5"
                                },
                                {
                                    "0": "Atlanta",
                                    "1": "3"
                                },
                                {
                                    "0": "Boulder",
                                    "1": "3"
                                },
                                {
                                    "0": "Columbus",
                                    "1": "2"
                                },
                                {
                                    "0": "Irvine",
                                    "1": "2"
                                }
                            ]
                        },
                        "text/html": [
                            "<table>",
                            "<tr><th>location</th><th>Avg no of employees</th></tr>",
                            "<tr><td>San Francisco</td><td>1920.4</td></tr>",
                            "<tr><td>Silicon Valley</td><td>1804.6</td></tr>",
                            "<tr><td>New York</td><td>702.75</td></tr>",
                            "<tr><td>Brooklyn</td><td>502.6666666666667</td></tr>",
                            "<tr><td>Fort Lauderdale</td><td>500</td></tr>",
                            "<tr><td>New Delhi</td><td>250</td></tr>",
                            "<tr><td>Palo Alto</td><td>125.83333333333333</td></tr>",
                            "<tr><td>Omaha</td><td>65</td></tr>",
                            "<tr><td>Paris</td><td>30</td></tr>",
                            "<tr><td>Minneapolis</td><td>20</td></tr>",
                            "<tr><td>Virginia Beach</td><td>15</td></tr>",
                            "<tr><td>Denver</td><td>12</td></tr>",
                            "<tr><td>Chicago</td><td>12</td></tr>",
                            "<tr><td>Seattle</td><td>9.666666666666666</td></tr>",
                            "<tr><td>Washington DC</td><td>8</td></tr>",
                            "<tr><td>Los Angeles</td><td>6.833333333333333</td></tr>",
                            "<tr><td>Savannah</td><td>6</td></tr>",
                            "<tr><td>Scranton</td><td>6</td></tr>",
                            "<tr><td>Long Island</td><td>5</td></tr>",
                            "<tr><td>Atlanta</td><td>3</td></tr>",
                            "<tr><td>Boulder</td><td>3</td></tr>",
                            "<tr><td>Columbus</td><td>2</td></tr>",
                            "<tr><td>Irvine</td><td>2</td></tr>",
                            "</table>"
                        ]
                    }
                }
            ],
            "execution_count": 13
        },
        {
            "cell_type": "code",
            "source": [
                "-- What is the average size of a startup in each location, with average sizes above 500?\n",
                "\n",
                "select location, avg(employees) as [Avg no of employees]\n",
                "from startups\n",
                "group by location\n",
                "having avg(employees) > 500\n",
                "order by 2 desc;"
            ],
            "metadata": {
                "azdata_cell_guid": "66ea0ab1-5a2f-4abc-b4b9-d275388abd9e"
            },
            "outputs": [
                {
                    "output_type": "display_data",
                    "data": {
                        "text/html": "Warning: Null value is eliminated by an aggregate or other SET operation."
                    },
                    "metadata": {}
                },
                {
                    "output_type": "display_data",
                    "data": {
                        "text/html": "(4 rows affected)"
                    },
                    "metadata": {}
                },
                {
                    "output_type": "display_data",
                    "data": {
                        "text/html": "Total execution time: 00:00:00.006"
                    },
                    "metadata": {}
                },
                {
                    "output_type": "execute_result",
                    "metadata": {},
                    "execution_count": 14,
                    "data": {
                        "application/vnd.dataresource+json": {
                            "schema": {
                                "fields": [
                                    {
                                        "name": "location"
                                    },
                                    {
                                        "name": "Avg no of employees"
                                    }
                                ]
                            },
                            "data": [
                                {
                                    "0": "San Francisco",
                                    "1": "1920.4"
                                },
                                {
                                    "0": "Silicon Valley",
                                    "1": "1804.6"
                                },
                                {
                                    "0": "New York",
                                    "1": "702.75"
                                },
                                {
                                    "0": "Brooklyn",
                                    "1": "502.6666666666667"
                                }
                            ]
                        },
                        "text/html": [
                            "<table>",
                            "<tr><th>location</th><th>Avg no of employees</th></tr>",
                            "<tr><td>San Francisco</td><td>1920.4</td></tr>",
                            "<tr><td>Silicon Valley</td><td>1804.6</td></tr>",
                            "<tr><td>New York</td><td>702.75</td></tr>",
                            "<tr><td>Brooklyn</td><td>502.6666666666667</td></tr>",
                            "</table>"
                        ]
                    }
                }
            ],
            "execution_count": 14
        }
    ]
}